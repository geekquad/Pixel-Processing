{
 "cells": [
  {
   "cell_type": "code",
   "execution_count": null,
   "metadata": {},
   "outputs": [],
   "source": [
    "# Required Imports\n",
    "import cv2\n",
    "import numpy as np\n",
    "import os"
   ]
  },
  {
   "cell_type": "code",
   "execution_count": null,
   "metadata": {},
   "outputs": [],
   "source": [
    "# Detecting face and saving data\n",
    "cap = cv2.VideoCapture(0)\n",
    "\n",
    "detector = cv2.CascadeClassifier(\"./datasets/haarcascade_frontalface_default.xml\")\n",
    "\n",
    "name = input(\"Enter your name : \")\n",
    "\n",
    "frames = []\n",
    "outputs = []\n",
    "\n",
    "while True:\n",
    "\n",
    "    ret, frame = cap.read()\n",
    "\n",
    "    if ret:\n",
    "        faces = detector.detectMultiScale(frame,1.1,4)\n",
    "\n",
    "        for face in faces:\n",
    "            x, y, w, h = face\n",
    "\n",
    "            cut = frame[y:y+h, x:x+w]\n",
    "\n",
    "            fix = cv2.resize(cut, (100, 100))\n",
    "            gray = cv2.cvtColor(fix, cv2.COLOR_BGR2GRAY)\n",
    "            cv2.imshow(\"My Face\", gray)\n",
    "        cv2.imshow(\"My Screen\", frame)\n",
    "        \n",
    "\n",
    "    key = cv2.waitKey(1)\n",
    "\n",
    "    if key == ord(\"q\"):\n",
    "        break\n",
    "    if key == ord(\"c\"):\n",
    "        # cv2.imwrite(name + \".jpg\", frame)\n",
    "        frames.append(gray.flatten())\n",
    "        outputs.append([name])\n",
    "\n",
    "X = np.array(frames)\n",
    "y = np.array(outputs)\n",
    "\n",
    "data = np.hstack([y, X])\n",
    "\n",
    "f_name = \"face_data.npy\"\n",
    "\n",
    "if os.path.exists(f_name):\n",
    "    old = np.load(f_name)\n",
    "    data = np.vstack([old, data])\n",
    "\n",
    "np.save(f_name, data)\n",
    "\n",
    "cap.release()\n",
    "cv2.destroyAllWindows()"
   ]
  }
 ],
 "metadata": {
  "kernelspec": {
   "display_name": "Python 3",
   "language": "python",
   "name": "python3"
  },
  "language_info": {
   "codemirror_mode": {
    "name": "ipython",
    "version": 3
   },
   "file_extension": ".py",
   "mimetype": "text/x-python",
   "name": "python",
   "nbconvert_exporter": "python",
   "pygments_lexer": "ipython3",
   "version": "3.7.3"
  }
 },
 "nbformat": 4,
 "nbformat_minor": 4
}