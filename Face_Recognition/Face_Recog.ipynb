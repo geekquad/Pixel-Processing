{
 "cells": [
  {
   "cell_type": "code",
   "execution_count": 1,
   "metadata": {},
   "outputs": [],
   "source": [
    "# Required Imports\n",
    "import cv2\n",
    "import numpy as np\n",
    "from sklearn.neighbors import KNeighborsClassifier"
   ]
  },
  {
   "cell_type": "code",
   "execution_count": 2,
   "metadata": {},
   "outputs": [],
   "source": [
    "# Detecting face\n",
    "data = np.load(\"face_data.npy\")\n",
    "\n",
    "# print(data.shape, data.dtype)\n",
    "X = data[:, 1:].astype(int)\n",
    "y = data[:, 0]\n",
    "model = KNeighborsClassifier()\n",
    "model.fit(X, y)\n",
    "cap = cv2.VideoCapture(0)\n",
    "detector = cv2.CascadeClassifier(\"./datasets/haarcascade_frontalface_default.xml\")\n",
    "while True:\n",
    "\n",
    "    ret, frame = cap.read()\n",
    "\n",
    "    if ret:\n",
    "        faces = detector.detectMultiScale(frame,1.5,4)\n",
    "\n",
    "        for face in faces:\n",
    "            x, y, w, h = face\n",
    "\n",
    "            cut = frame[y:y+h, x:x+w]\n",
    "\n",
    "            fix = cv2.resize(cut, (100, 100))\n",
    "            gray = cv2.cvtColor(fix, cv2.COLOR_BGR2GRAY)\n",
    "\n",
    "            out = model.predict([gray.flatten()])\n",
    "        \n",
    "            cv2.rectangle(frame, (x, y), (x+w, y+h), (255, 0, 0), 2)\n",
    "            cv2.putText(frame, str(out[0]), (x, y - 10), cv2.FONT_HERSHEY_COMPLEX, 2, (255, 0, 0), 2)\n",
    "            \n",
    "            cv2.imshow(\"My Face\", gray)\n",
    "\n",
    "        cv2.imshow(\"My Screen\", frame)\n",
    "\n",
    "\n",
    "    key = cv2.waitKey(1)\n",
    "\n",
    "    if key == ord(\"q\"):\n",
    "        break\n",
    "\n",
    "cap.release()\n",
    "cv2.destroyAllWindows()"
   ]
  }
 ],
 "metadata": {
  "kernelspec": {
   "display_name": "Python 3",
   "language": "python",
   "name": "python3"
  },
  "language_info": {
   "codemirror_mode": {
    "name": "ipython",
    "version": 3
   },
   "file_extension": ".py",
   "mimetype": "text/x-python",
   "name": "python",
   "nbconvert_exporter": "python",
   "pygments_lexer": "ipython3",
   "version": "3.7.3"
  }
 },
 "nbformat": 4,
 "nbformat_minor": 4
}