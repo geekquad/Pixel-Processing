{
  "cells": [
    {
      "cell_type": "code",
      "execution_count": null,
      "metadata": {
        "colab": {
          "base_uri": "https://localhost:8080/",
          "height": 844
        },
        "id": "JIK8nZumFryf",
        "outputId": "0785716a-4e16-423e-b192-902d439801f5"
      },
      "outputs": [],
      "source": [
        "import cv2\n",
        "import numpy as np\n",
        "\n",
        "# Harris Corner Detection\n",
        "# Read the image and convert to greyscale\n",
        "img = cv2.imread('img/corner0.png')\n",
        "cv2.imshow('Ori', img)\n",
        "\n",
        "gray = cv2.cvtColor(img,cv2.COLOR_BGR2GRAY)\n",
        " \n",
        "# Find the corners using the Harris Corner Detector\n",
        "dst = cv2.cornerHarris(gray,2,3,0.04)\n",
        " \n",
        "#result is dilated for enhancing the corners, not important\n",
        "dst = cv2.dilate(dst,None)\n",
        " \n",
        "# Threshold for an optimal value, it may vary depending on the image.\n",
        "thresh = 0.01*dst.max()\n",
        "img[dst>thresh]=[0,255,0]\n",
        " \n",
        "# Display the image\n",
        "cv2.imshow('dst',img)\n",
        "cv2.waitKey(0)\n",
        "# ---------------------------------------------------------------------------\n",
        "img = cv2.imread('img/corner0.png')\n",
        "cv2.imshow('Ori', img)\n",
        "\n",
        "gray = cv2.cvtColor(img, cv2.COLOR_BGR2GRAY)\n",
        "gray = np.float32(gray)\n",
        "\n",
        "corners = cv2.goodFeaturesToTrack(gray, 28, 0.01, 10)\n",
        "corners = np.int0(corners)\n",
        "\n",
        "for i in corners:\n",
        "         x, y = i.ravel()\n",
        "         cv2.circle(img, (x,y), 3, (0,0,255), -1)\n",
        "\n",
        "cv2.imshow('Corners', img)\n",
        "\n",
        "cv2.waitKey()\n",
        "cv2.destroyAllWindows()\n"
      ]
    }
  ],
  "metadata": {
    "colab": {
      "name": "Color_Transfer.ipynb",
      "provenance": []
    },
    "kernelspec": {
      "display_name": "Python 3.10.5 64-bit (windows store)",
      "language": "python",
      "name": "python3"
    },
    "language_info": {
      "name": "python",
      "version": "3.10.5"
    },
    "vscode": {
      "interpreter": {
        "hash": "4dba18a0cd10de7fdb6970463141649688ad97ab1041a5a5c9fb3aa53d17b533"
      }
    }
  },
  "nbformat": 4,
  "nbformat_minor": 0
}
