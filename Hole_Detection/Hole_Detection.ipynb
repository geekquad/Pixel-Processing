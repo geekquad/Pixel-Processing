{
 "cells": [
  {
   "cell_type": "markdown",
   "metadata": {},
   "source": [
    "# Importing Libraries"
   ]
  },
  {
   "cell_type": "code",
   "execution_count": 1,
   "metadata": {},
   "outputs": [],
   "source": [
    "import cv2\n",
    "import numpy as np"
   ]
  },
  {
   "cell_type": "markdown",
   "metadata": {},
   "source": [
    "# Reading Input Images"
   ]
  },
  {
   "cell_type": "code",
   "execution_count": 2,
   "metadata": {},
   "outputs": [],
   "source": [
    "img1 = cv2.imread(\"C:\\\\Users\\\\Srimonti\\\\Documents\\GSSoC21\\\\Hole_Detection\\\\sample1.jpg\",1);\n",
    "img2 = cv2.imread(\"C:\\\\Users\\\\Srimonti\\\\Documents\\GSSoC21\\\\Hole_Detection\\\\sample2.jpg\",1);\n",
    "img3 = cv2.imread(\"C:\\\\Users\\\\Srimonti\\\\Documents\\GSSoC21\\\\Hole_Detection\\\\sample3.jpg\",1);"
   ]
  },
  {
   "cell_type": "markdown",
   "metadata": {},
   "source": [
    "# Converting Input Images to Grayscale"
   ]
  },
  {
   "cell_type": "code",
   "execution_count": 3,
   "metadata": {},
   "outputs": [],
   "source": [
    "grey1 = cv2.cvtColor(img1,cv2.COLOR_BGR2GRAY)\n",
    "grey2 = cv2.cvtColor(img2,cv2.COLOR_BGR2GRAY)\n",
    "grey3 = cv2.cvtColor(img3,cv2.COLOR_BGR2GRAY)"
   ]
  },
  {
   "cell_type": "markdown",
   "metadata": {},
   "source": [
    "# Performing Gaussian Blurring"
   ]
  },
  {
   "cell_type": "code",
   "execution_count": 4,
   "metadata": {},
   "outputs": [],
   "source": [
    "gauss1 = cv2.GaussianBlur(img1,(5,5),200)\n",
    "gauss2 = cv2.GaussianBlur(img2,(5,5),200)\n",
    "gauss3 = cv2.GaussianBlur(img3,(5,5),200)"
   ]
  },
  {
   "cell_type": "markdown",
   "metadata": {},
   "source": [
    "# Threshold Detection"
   ]
  },
  {
   "cell_type": "code",
   "execution_count": 5,
   "metadata": {},
   "outputs": [],
   "source": [
    "ret,thresh1 = cv2.threshold(gauss1,127,255,0)\n",
    "ret,thresh2 = cv2.threshold(gauss2,127,255,0)\n",
    "ret,thresh3 = cv2.threshold(gauss3,127,255,0)"
   ]
  },
  {
   "cell_type": "markdown",
   "metadata": {},
   "source": [
    "# Performing Blob Detection"
   ]
  },
  {
   "cell_type": "code",
   "execution_count": 6,
   "metadata": {},
   "outputs": [],
   "source": [
    "detector = cv2.SimpleBlobDetector_create()\n",
    "keypoint1 = detector.detect(thresh1);\n",
    "imgkeypoint1 = cv2.drawKeypoints(thresh1,keypoint1,np.array([]),(0,255,0),cv2.DRAW_MATCHES_FLAGS_DRAW_RICH_KEYPOINTS)\n",
    "keypoint2 = detector.detect(thresh2);\n",
    "imgkeypoint2= cv2.drawKeypoints(thresh2,keypoint2,np.array([]),(0,255,0),cv2.DRAW_MATCHES_FLAGS_DRAW_RICH_KEYPOINTS)\n",
    "keypoint3 = detector.detect(thresh3);\n",
    "imgkeypoint3 = cv2.drawKeypoints(thresh3,keypoint3,np.array([]),(0,255,0),cv2.DRAW_MATCHES_FLAGS_DRAW_RICH_KEYPOINTS)"
   ]
  },
  {
   "cell_type": "markdown",
   "metadata": {},
   "source": [
    "# Output Image Display"
   ]
  },
  {
   "cell_type": "code",
   "execution_count": 7,
   "metadata": {},
   "outputs": [
    {
     "data": {
      "text/plain": [
       "-1"
      ]
     },
     "execution_count": 7,
     "metadata": {},
     "output_type": "execute_result"
    }
   ],
   "source": [
    "cv2.imshow(\"legend\",imgkeypoint1);\n",
    "cv2.waitKey(0)"
   ]
  },
  {
   "cell_type": "code",
   "execution_count": 8,
   "metadata": {},
   "outputs": [
    {
     "data": {
      "text/plain": [
       "-1"
      ]
     },
     "execution_count": 8,
     "metadata": {},
     "output_type": "execute_result"
    }
   ],
   "source": [
    "cv2.imshow(\"legend\",imgkeypoint2);\n",
    "cv2.waitKey(0)"
   ]
  },
  {
   "cell_type": "code",
   "execution_count": 9,
   "metadata": {},
   "outputs": [
    {
     "data": {
      "text/plain": [
       "-1"
      ]
     },
     "execution_count": 9,
     "metadata": {},
     "output_type": "execute_result"
    }
   ],
   "source": [
    "cv2.imshow(\"legend\",imgkeypoint3);\n",
    "cv2.waitKey(0)"
   ]
  },
  {
   "cell_type": "code",
   "execution_count": null,
   "metadata": {},
   "outputs": [],
   "source": []
  }
 ],
 "metadata": {
  "kernelspec": {
   "display_name": "Python 3",
   "language": "python",
   "name": "python3"
  },
  "language_info": {
   "codemirror_mode": {
    "name": "ipython",
    "version": 3
   },
   "file_extension": ".py",
   "mimetype": "text/x-python",
   "name": "python",
   "nbconvert_exporter": "python",
   "pygments_lexer": "ipython3",
   "version": "3.8.6rc1"
  }
 },
 "nbformat": 4,
 "nbformat_minor": 4
}
